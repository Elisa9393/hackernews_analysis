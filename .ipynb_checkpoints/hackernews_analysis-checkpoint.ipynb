{
 "cells": [
  {
   "cell_type": "markdown",
   "id": "2273ff77",
   "metadata": {},
   "source": [
    "# Hacker News - Analysis of Posts"
   ]
  },
  {
   "cell_type": "markdown",
   "id": "e4718e15",
   "metadata": {},
   "source": [
    "Hacker News is a popular website in the technology domain, where user can add posts and receive comments and votes for that. The dataset storing data about posts can be download at [Kaggle](https://www.kaggle.com/datasets/hacker-news/hacker-news-posts). In this data science project the posts on the website Hacker News will be analyzed to answer the question if the Show HN or Ask HN posts receive more comments. Also it will be examined if posts published at a certain time receive more likes on average."
   ]
  },
  {
   "cell_type": "markdown",
   "id": "725ceccc",
   "metadata": {},
   "source": [
    "Let's read in the dataset first and print the first 5 rows."
   ]
  },
  {
   "cell_type": "code",
   "execution_count": 16,
   "id": "ca707250",
   "metadata": {},
   "outputs": [
    {
     "name": "stdout",
     "output_type": "stream",
     "text": [
      "[['id', 'title', 'url', 'num_points', 'num_comments', 'author', 'created_at'], ['12579008', 'You have two days to comment if you want stem cells to be classified as your own', 'http://www.regulations.gov/document?D=FDA-2015-D-3719-0018', '1', '0', 'altstar', '9/26/2016 3:26'], ['12579005', 'SQLAR  the SQLite Archiver', 'https://www.sqlite.org/sqlar/doc/trunk/README.md', '1', '0', 'blacksqr', '9/26/2016 3:24'], ['12578997', 'What if we just printed a flatscreen television on the side of our boxes?', 'https://medium.com/vanmoof/our-secrets-out-f21c1f03fdc8#.ietxmez43', '1', '0', 'pavel_lishin', '9/26/2016 3:19'], ['12578989', 'algorithmic music', 'http://cacm.acm.org/magazines/2011/7/109891-algorithmic-composition/fulltext', '1', '0', 'poindontcare', '9/26/2016 3:16']]\n"
     ]
    }
   ],
   "source": [
    "opened_file = open(\"./data/HN_posts_year_to_Sep_26_2016.csv\", encoding=\"utf8\")\n",
    "                \n",
    "from csv import reader\n",
    "read_file = reader(opened_file)\n",
    "hn = list(read_file)\n",
    "\n",
    "print(hn[:5])"
   ]
  },
  {
   "cell_type": "markdown",
   "id": "d44ec44e",
   "metadata": {},
   "source": [
    "Let's extract the headers in a separate list. and remove the header row in the dataset."
   ]
  },
  {
   "cell_type": "code",
   "execution_count": 17,
   "id": "6ae85f15",
   "metadata": {},
   "outputs": [
    {
     "name": "stdout",
     "output_type": "stream",
     "text": [
      "['id', 'title', 'url', 'num_points', 'num_comments', 'author', 'created_at']\n",
      "\n",
      "\n",
      "[['12579008', 'You have two days to comment if you want stem cells to be classified as your own', 'http://www.regulations.gov/document?D=FDA-2015-D-3719-0018', '1', '0', 'altstar', '9/26/2016 3:26'], ['12579005', 'SQLAR  the SQLite Archiver', 'https://www.sqlite.org/sqlar/doc/trunk/README.md', '1', '0', 'blacksqr', '9/26/2016 3:24'], ['12578997', 'What if we just printed a flatscreen television on the side of our boxes?', 'https://medium.com/vanmoof/our-secrets-out-f21c1f03fdc8#.ietxmez43', '1', '0', 'pavel_lishin', '9/26/2016 3:19'], ['12578989', 'algorithmic music', 'http://cacm.acm.org/magazines/2011/7/109891-algorithmic-composition/fulltext', '1', '0', 'poindontcare', '9/26/2016 3:16'], ['12578979', 'How the Data Vault Enables the Next-Gen Data Warehouse and Data Lake', 'https://www.talend.com/blog/2016/05/12/talend-and-Â\\x93the-data-vaultÂ\\x94', '1', '0', 'markgainor1', '9/26/2016 3:14']]\n"
     ]
    }
   ],
   "source": [
    "headers = hn[0] #only run once, otherwise another not the header row will be chosen\n",
    "print(headers)\n",
    "print('\\n')\n",
    "\n",
    "hn = hn[1:] #only run once, otherwise more than the header row will be removed\n",
    "print(hn[:5])"
   ]
  },
  {
   "cell_type": "markdown",
   "id": "9d281b3a",
   "metadata": {},
   "source": [
    "Count the number of posts that begin with *ask hn*, *show_hn* and others."
   ]
  },
  {
   "cell_type": "code",
   "execution_count": 18,
   "id": "2b1117ef",
   "metadata": {},
   "outputs": [
    {
     "name": "stdout",
     "output_type": "stream",
     "text": [
      "Number of posts in ask_posts:  9139\n",
      "Number of posts in show_posts:  10158\n",
      "Number of posts in other_posts:  273822\n"
     ]
    }
   ],
   "source": [
    "ask_posts = []\n",
    "show_posts = []\n",
    "other_posts = []\n",
    "\n",
    "for row in hn:\n",
    "    title = row[1]\n",
    "    if title.lower().startswith('ask hn'):\n",
    "        ask_posts.append(row)\n",
    "    elif title.lower().startswith('show hn'):\n",
    "            show_posts.append(row)\n",
    "    else: \n",
    "        other_posts.append(row)\n",
    "        \n",
    "len_ask = len(ask_posts)\n",
    "len_show = len(show_posts)\n",
    "len_other = len(other_posts)\n",
    "\n",
    "print(\"Number of posts in ask_posts: \", len_ask)\n",
    "print(\"Number of posts in show_posts: \", len_show)\n",
    "print(\"Number of posts in other_posts: \", len_other)"
   ]
  },
  {
   "cell_type": "markdown",
   "id": "cd914cbd",
   "metadata": {},
   "source": [
    "Let's print the first five rows of the just created lists."
   ]
  },
  {
   "cell_type": "code",
   "execution_count": 19,
   "id": "35efa881",
   "metadata": {
    "scrolled": true
   },
   "outputs": [
    {
     "name": "stdout",
     "output_type": "stream",
     "text": [
      "[['12578908', 'Ask HN: What TLD do you use for local development?', '', '4', '7', 'Sevrene', '9/26/2016 2:53'], ['12578522', 'Ask HN: How do you pass on your work when you die?', '', '6', '3', 'PascLeRasc', '9/26/2016 1:17'], ['12577908', 'Ask HN: How a DNS problem can be limited to a geographic region?', '', '1', '0', 'kuon', '9/25/2016 22:57'], ['12577870', 'Ask HN: Why join a fund when you can be an angel?', '', '1', '3', 'anthony_james', '9/25/2016 22:48'], ['12577647', 'Ask HN: Someone uses stock trading as passive income?', '', '5', '2', '00taffe', '9/25/2016 21:50']]\n",
      "\n",
      "\n",
      "[['12578335', 'Show HN: Finding puns computationally', 'http://puns.samueltaylor.org/', '2', '0', 'saamm', '9/26/2016 0:36'], ['12578182', 'Show HN: A simple library for complicated animations', 'https://christinecha.github.io/choreographer-js/', '1', '0', 'christinecha', '9/26/2016 0:01'], ['12578098', 'Show HN: WebGL visualization of DNA sequences', 'http://grondilu.github.io/dna.html', '1', '0', 'grondilu', '9/25/2016 23:44'], ['12577991', 'Show HN: Pomodoro-centric, heirarchical project management with ES6 modules', 'https://github.com/jakebian/zeal', '2', '0', 'dbranes', '9/25/2016 23:17'], ['12577142', 'Show HN: Jumble  Essays on the go #PaulInYourPocket', 'https://itunes.apple.com/us/app/jumble-find-startup-essay/id1150939197?ls=1&mt=8', '1', '1', 'ryderj', '9/25/2016 20:06']]\n",
      "\n",
      "\n",
      "[['12579008', 'You have two days to comment if you want stem cells to be classified as your own', 'http://www.regulations.gov/document?D=FDA-2015-D-3719-0018', '1', '0', 'altstar', '9/26/2016 3:26'], ['12579005', 'SQLAR  the SQLite Archiver', 'https://www.sqlite.org/sqlar/doc/trunk/README.md', '1', '0', 'blacksqr', '9/26/2016 3:24'], ['12578997', 'What if we just printed a flatscreen television on the side of our boxes?', 'https://medium.com/vanmoof/our-secrets-out-f21c1f03fdc8#.ietxmez43', '1', '0', 'pavel_lishin', '9/26/2016 3:19'], ['12578989', 'algorithmic music', 'http://cacm.acm.org/magazines/2011/7/109891-algorithmic-composition/fulltext', '1', '0', 'poindontcare', '9/26/2016 3:16'], ['12578979', 'How the Data Vault Enables the Next-Gen Data Warehouse and Data Lake', 'https://www.talend.com/blog/2016/05/12/talend-and-Â\\x93the-data-vaultÂ\\x94', '1', '0', 'markgainor1', '9/26/2016 3:14']]\n"
     ]
    }
   ],
   "source": [
    "print(ask_posts[:5])\n",
    "print('\\n')\n",
    "print(show_posts[:5])\n",
    "print('\\n')\n",
    "print(other_posts[:5])"
   ]
  },
  {
   "cell_type": "markdown",
   "id": "e5647a70",
   "metadata": {},
   "source": [
    "Calculate the average of asked comments for *ask_posts* and *show_posts*."
   ]
  },
  {
   "cell_type": "code",
   "execution_count": 27,
   "id": "4410efd7",
   "metadata": {},
   "outputs": [
    {
     "name": "stdout",
     "output_type": "stream",
     "text": [
      "Average of ask_comments:  10.393478498741656\n",
      "Average of show_comments:  4.886099625910612\n"
     ]
    }
   ],
   "source": [
    "total_ask_comments = 0\n",
    "\n",
    "for row in ask_posts:\n",
    "    num_ask_comments = int(row[4])\n",
    "    total_ask_comments += num_ask_comments\n",
    "    \n",
    "avg_ask_comments = total_ask_comments / len(ask_posts)\n",
    "print(\"Average of ask_comments: \",avg_ask_comments)\n",
    "\n",
    "total_show_comments = 0\n",
    "\n",
    "for row in show_posts:\n",
    "    num_show_comments = int(row[4])\n",
    "    total_show_comments += num_show_comments\n",
    "    \n",
    "avg_show_comments = total_show_comments / len(show_posts)\n",
    "print(\"Average of show_comments: \", avg_show_comments)"
   ]
  },
  {
   "cell_type": "markdown",
   "id": "e317908f",
   "metadata": {},
   "source": [
    "In average ask comments appear almost twice as often as show comments. Therefore ask posts are more likely to receive comments."
   ]
  },
  {
   "cell_type": "code",
   "execution_count": 34,
   "id": "0aed0ca7",
   "metadata": {},
   "outputs": [
    {
     "name": "stdout",
     "output_type": "stream",
     "text": [
      "Counts by hour:  {2: 269, 1: 282, 22: 383, 21: 518, 19: 552, 17: 587, 15: 646, 14: 513, 13: 444, 11: 312, 10: 282, 9: 222, 7: 226, 3: 271, 23: 343, 20: 510, 16: 579, 8: 257, 0: 301, 18: 614, 12: 342, 4: 243, 6: 234, 5: 209}\n",
      "\n",
      "\n",
      "Comments by hour:  {2: 2996, 1: 2089, 22: 3372, 21: 4500, 19: 3954, 17: 5547, 15: 18525, 14: 4972, 13: 7245, 11: 2797, 10: 3013, 9: 1477, 7: 1585, 3: 2154, 23: 2297, 20: 4462, 16: 4466, 8: 2362, 0: 2277, 18: 4877, 12: 4234, 4: 2360, 6: 1587, 5: 1838}\n"
     ]
    }
   ],
   "source": [
    "import datetime as dt\n",
    "\n",
    "result_list = []\n",
    "\n",
    "for row in ask_posts:\n",
    "    created_at = row[6]\n",
    "    num_ask_comments = (int(row[4]))\n",
    "    result_list.append([created_at,num_ask_comments])\n",
    "    \n",
    "counts_by_hour = {}\n",
    "comments_by_hour = {}\n",
    "\n",
    "for row in result_list:\n",
    "    hour_of_date = row[0]\n",
    "    comments = row[1]\n",
    "    hour = dt.datetime.strptime(hour_of_date, \"%m/%d/%Y %H:%M\").hour\n",
    "    #hour = date_string.strftime(\"%I:%M\")\n",
    "    if hour not in counts_by_hour:\n",
    "        counts_by_hour[hour] = 1\n",
    "        comments_by_hour[hour] = comments\n",
    "    else:\n",
    "        counts_by_hour[hour] += 1\n",
    "        comments_by_hour[hour] += comments\n",
    "    \n",
    "print(\"Counts by hour: \", counts_by_hour)\n",
    "print('\\n')\n",
    "print(\"Comments by hour: \", comments_by_hour)"
   ]
  },
  {
   "cell_type": "markdown",
   "id": "300c3de6",
   "metadata": {},
   "source": [
    "Calculate the average number of comments for posts created every number of the day."
   ]
  },
  {
   "cell_type": "code",
   "execution_count": 37,
   "id": "efa01d5e",
   "metadata": {},
   "outputs": [
    {
     "name": "stdout",
     "output_type": "stream",
     "text": [
      "[[2, 11.137546468401487], [1, 7.407801418439717], [22, 8.804177545691905], [21, 8.687258687258687], [19, 7.163043478260869], [17, 9.449744463373083], [15, 28.676470588235293], [14, 9.692007797270955], [13, 16.31756756756757], [11, 8.96474358974359], [10, 10.684397163120567], [9, 6.653153153153153], [7, 7.013274336283186], [3, 7.948339483394834], [23, 6.696793002915452], [20, 8.749019607843136], [16, 7.713298791018998], [8, 9.190661478599221], [0, 7.5647840531561465], [18, 7.94299674267101], [12, 12.380116959064328], [4, 9.7119341563786], [6, 6.782051282051282], [5, 8.794258373205741]]\n",
      "24\n"
     ]
    }
   ],
   "source": [
    "avg_by_hour = []\n",
    "\n",
    "for hour, hour2 in zip(counts_by_hour, comments_by_hour):\n",
    "    avg_by_hour.append([hour, comments_by_hour[hour2]/counts_by_hour[hour]])\n",
    "\n",
    "print(avg_by_hour)\n",
    "print(len(avg_by_hour)) #check if the length is 24 to cover every hour of the day"
   ]
  },
  {
   "cell_type": "code",
   "execution_count": 55,
   "id": "a3a351d3",
   "metadata": {},
   "outputs": [
    {
     "name": "stdout",
     "output_type": "stream",
     "text": [
      "[[11.137546468401487, 2], [7.407801418439717, 1], [8.804177545691905, 22], [8.687258687258687, 21], [7.163043478260869, 19], [9.449744463373083, 17], [28.676470588235293, 15], [9.692007797270955, 14], [16.31756756756757, 13], [8.96474358974359, 11], [10.684397163120567, 10], [6.653153153153153, 9], [7.013274336283186, 7], [7.948339483394834, 3], [6.696793002915452, 23], [8.749019607843136, 20], [7.713298791018998, 16], [9.190661478599221, 8], [7.5647840531561465, 0], [7.94299674267101, 18], [12.380116959064328, 12], [9.7119341563786, 4], [6.782051282051282, 6], [8.794258373205741, 5]]\n",
      "\n",
      "\n",
      "Top Hours for Ask Posts Comments\n",
      "15:00: 28.68 average comments\n",
      "13:00: 16.32 average comments\n",
      "12:00: 12.38 average comments\n",
      "02:00: 11.14 average comments\n",
      "10:00: 10.68 average comments\n",
      "04:00: 9.71 average comments\n",
      "14:00: 9.69 average comments\n",
      "17:00: 9.45 average comments\n",
      "08:00: 9.19 average comments\n",
      "11:00: 8.96 average comments\n",
      "22:00: 8.80 average comments\n",
      "05:00: 8.79 average comments\n",
      "20:00: 8.75 average comments\n",
      "21:00: 8.69 average comments\n",
      "03:00: 7.95 average comments\n",
      "18:00: 7.94 average comments\n",
      "16:00: 7.71 average comments\n",
      "00:00: 7.56 average comments\n",
      "01:00: 7.41 average comments\n",
      "19:00: 7.16 average comments\n",
      "07:00: 7.01 average comments\n",
      "06:00: 6.78 average comments\n",
      "23:00: 6.70 average comments\n",
      "09:00: 6.65 average comments\n"
     ]
    }
   ],
   "source": [
    "swap_avg_by_hour = []\n",
    "\n",
    "for row in avg_by_hour:\n",
    "    new_order = [row[1], row[0]]\n",
    "    swap_avg_by_hour.append(new_order)\n",
    "    \n",
    "print(swap_avg_by_hour)\n",
    "print('\\n')\n",
    "\n",
    "sorted_swap = sorted(swap_avg_by_hour, reverse=True)\n",
    "#sorted(student_objects, key=attrgetter('age'), reverse=True)\n",
    "print(\"Top Hours for Ask Posts Comments\")\n",
    "\n",
    "for average, hour in sorted_swap:\n",
    "    hour_o = dt.datetime.strptime(str(hour), \"%H\")\n",
    "    hour_h = hour_o.strftime(\"%H:%M\")\n",
    "    \n",
    "    print(\"{h}: {a:.2f} average comments\".format(h=hour_h, a=average))\n",
    "\n",
    "    "
   ]
  },
  {
   "cell_type": "markdown",
   "id": "8f40f6c7",
   "metadata": {},
   "source": [
    "From our data analysis we can conclude that The best time to write an ask post is by far 15:00 with 28.68 average comments, followed by 13:00 (16.32) and 12:00 (12.38). Since the time in the dataset is in Eastern Time in the US (see in the [documentation](https://www.kaggle.com/datasets/hacker-news/hacker-news-posts)), the time to get the most comments for ask posts in Central European Summer Time (Germany) is 21:00, followed by 19:00, and 18:00."
   ]
  },
  {
   "cell_type": "code",
   "execution_count": null,
   "id": "1199f927",
   "metadata": {},
   "outputs": [],
   "source": []
  }
 ],
 "metadata": {
  "kernelspec": {
   "display_name": "ML_env",
   "language": "python",
   "name": "ml_env"
  },
  "language_info": {
   "codemirror_mode": {
    "name": "ipython",
    "version": 3
   },
   "file_extension": ".py",
   "mimetype": "text/x-python",
   "name": "python",
   "nbconvert_exporter": "python",
   "pygments_lexer": "ipython3",
   "version": "3.9.1"
  }
 },
 "nbformat": 4,
 "nbformat_minor": 5
}
